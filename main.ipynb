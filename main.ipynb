{
 "cells": [
  {
   "cell_type": "code",
   "execution_count": 1,
   "metadata": {},
   "outputs": [
    {
     "name": "stderr",
     "output_type": "stream",
     "text": [
      "2024-03-23 14:16:37.559827: I tensorflow/core/platform/cpu_feature_guard.cc:210] This TensorFlow binary is optimized to use available CPU instructions in performance-critical operations.\n",
      "To enable the following instructions: AVX2 FMA, in other operations, rebuild TensorFlow with the appropriate compiler flags.\n",
      "2024-03-23 14:16:38.518432: W tensorflow/compiler/tf2tensorrt/utils/py_utils.cc:38] TF-TRT Warning: Could not find TensorRT\n",
      "/usr/lib/python3/dist-packages/requests/__init__.py:109: RequestsDependencyWarning: urllib3 (2.2.1) or chardet (5.1.0)/charset_normalizer (3.0.1) doesn't match a supported version!\n",
      "  warnings.warn(\n"
     ]
    }
   ],
   "source": [
    "import tensorflow as tf\n",
    "import tensorflow_text as tf_text\n",
    "import tensorflow_hub as tf_hub\n",
    "from tqdm import tqdm\n",
    "\n",
    "import chromadb"
   ]
  },
  {
   "cell_type": "code",
   "execution_count": 2,
   "metadata": {},
   "outputs": [
    {
     "name": "stderr",
     "output_type": "stream",
     "text": [
      "2024-03-23 14:16:43.222513: E external/local_xla/xla/stream_executor/cuda/cuda_driver.cc:282] failed call to cuInit: CUDA_ERROR_NO_DEVICE: no CUDA-capable device is detected\n"
     ]
    }
   ],
   "source": [
    "model = tf_hub.load(\"./model\")"
   ]
  },
  {
   "cell_type": "code",
   "execution_count": 3,
   "metadata": {},
   "outputs": [],
   "source": [
    "def get_embedings(texts: list[str]) -> list[list[float]]:\n",
    "    return model(texts).numpy().tolist()"
   ]
  },
  {
   "cell_type": "code",
   "execution_count": 4,
   "metadata": {},
   "outputs": [],
   "source": [
    "with open(\"./data/rules.txt\", \"r\") as f:\n",
    "    rules = f.readlines()\n"
   ]
  },
  {
   "cell_type": "code",
   "execution_count": 5,
   "metadata": {},
   "outputs": [],
   "source": [
    "rule_category_dict = {}\n",
    "begin_rules = 0\n",
    "for idx, line in enumerate(rules):\n",
    "    if line.strip() == \"---\":\n",
    "        begin_rules = idx\n",
    "        break\n",
    "    num, category, *_ = line.strip().split(\". \")\n",
    "    category = category + \". \".join(_)\n",
    "    rule_category_dict[int(num)] = category\n"
   ]
  },
  {
   "cell_type": "code",
   "execution_count": 6,
   "metadata": {},
   "outputs": [],
   "source": [
    "def is_rule_identifier(word: str) -> bool:\n",
    "    # check if first word is just digits, \".\" and maximum 1 char (eg. 102.4a)\n",
    "    num_non_digit_chars = 0\n",
    "    for char in word:\n",
    "        if not char in \"1234567890.\":\n",
    "            num_non_digit_chars += 1\n",
    "    \n",
    "    return num_non_digit_chars <= 1"
   ]
  },
  {
   "cell_type": "code",
   "execution_count": 7,
   "metadata": {},
   "outputs": [],
   "source": [
    "rules_dict = {}\n",
    "rule_identifier = \"\"\n",
    "rule_text = \"\"\n",
    "begin_glossary = 0\n",
    "for idx, line in enumerate(rules[begin_rules + 1:]):\n",
    "    idx += begin_rules + 1\n",
    "\n",
    "    if line.strip() == \"---G\":\n",
    "        begin_glossary = idx\n",
    "        break\n",
    "\n",
    "    if line.strip().endswith(\"See rule\") or line.strip().endswith(\"See rules\"):\n",
    "        print(idx + 1, line.strip())\n",
    "\n",
    "    #100.1. These Magic rules apply to any Magic game with two or more players, including two-player\\ngames and multiplayer games.\n",
    "    first_word = line.split(\" \")[0].strip()\n",
    "    if is_rule_identifier(first_word):\n",
    "        if rule_identifier:\n",
    "            rules_dict[rule_identifier] = rule_text\n",
    "        \n",
    "        # new rule\n",
    "        rule_identifier = first_word\n",
    "        rule_text = \"\"\n",
    "    \n",
    "    rule_text += line.strip() + \" \"\n"
   ]
  },
  {
   "cell_type": "code",
   "execution_count": 8,
   "metadata": {},
   "outputs": [],
   "source": [
    "client = chromadb.PersistentClient(\"./data/chromadb\")\n",
    "collection = client.get_or_create_collection(\"rules\")"
   ]
  },
  {
   "cell_type": "code",
   "execution_count": 9,
   "metadata": {},
   "outputs": [
    {
     "name": "stdout",
     "output_type": "stream",
     "text": [
      "2691 2691\n"
     ]
    }
   ],
   "source": [
    "rule_identifiers = list(rules_dict.keys())\n",
    "print(len(rule_identifiers), len(list(set(rule_identifiers))))"
   ]
  },
  {
   "cell_type": "code",
   "execution_count": null,
   "metadata": {},
   "outputs": [],
   "source": []
  },
  {
   "cell_type": "code",
   "execution_count": 10,
   "metadata": {},
   "outputs": [
    {
     "name": "stderr",
     "output_type": "stream",
     "text": [
      " 14%|█▍        | 384/2691 [00:18<01:44, 22.03it/s]2024-03-23 14:17:10.159623: W external/local_tsl/tsl/framework/cpu_allocator_impl.cc:83] Allocation of 807469056 exceeds 10% of free system memory.\n",
      "2024-03-23 14:17:12.011845: W external/local_tsl/tsl/framework/cpu_allocator_impl.cc:83] Allocation of 807469056 exceeds 10% of free system memory.\n",
      "2024-03-23 14:17:14.009290: W external/local_tsl/tsl/framework/cpu_allocator_impl.cc:83] Allocation of 807469056 exceeds 10% of free system memory.\n",
      "2024-03-23 14:17:15.751829: W external/local_tsl/tsl/framework/cpu_allocator_impl.cc:83] Allocation of 807469056 exceeds 10% of free system memory.\n",
      "2024-03-23 14:17:18.061999: W external/local_tsl/tsl/framework/cpu_allocator_impl.cc:83] Allocation of 807469056 exceeds 10% of free system memory.\n",
      " 19%|█▉        | 512/2691 [00:30<02:16, 15.92it/s]INFO:backoff:Backing off send_request(...) for 0.5s (requests.exceptions.ReadTimeout: HTTPSConnectionPool(host='us-api.i.posthog.com', port=443): Read timed out. (read timeout=15))\n",
      " 19%|█▉        | 512/2691 [00:50<02:16, 15.92it/s]INFO:backoff:Backing off send_request(...) for 0.5s (requests.exceptions.ConnectionError: HTTPSConnectionPool(host='us-api.i.posthog.com', port=443): Max retries exceeded with url: /batch/ (Caused by NameResolutionError(\"<urllib3.connection.HTTPSConnection object at 0x7f81b10be450>: Failed to resolve 'us-api.i.posthog.com' ([Errno -2] Name or service not known)\")))\n",
      " 33%|███▎      | 896/2691 [01:09<02:18, 12.97it/s]INFO:backoff:Backing off send_request(...) for 3.1s (requests.exceptions.ConnectionError: HTTPSConnectionPool(host='us-api.i.posthog.com', port=443): Max retries exceeded with url: /batch/ (Caused by NameResolutionError(\"<urllib3.connection.HTTPSConnection object at 0x7f81b0ebcc90>: Failed to resolve 'us-api.i.posthog.com' ([Errno -2] Name or service not known)\")))\n",
      " 38%|███▊      | 1024/2691 [01:29<02:48,  9.87it/s]ERROR:backoff:Giving up send_request(...) after 4 tries (requests.exceptions.ConnectionError: HTTPSConnectionPool(host='us-api.i.posthog.com', port=443): Max retries exceeded with url: /batch/ (Caused by NameResolutionError(\"<urllib3.connection.HTTPSConnection object at 0x7f81b0ecb910>: Failed to resolve 'us-api.i.posthog.com' ([Errno -2] Name or service not known)\")))\n",
      " 43%|████▎     | 1152/2691 [01:43<02:41,  9.52it/s]INFO:backoff:Backing off send_request(...) for 1.0s (requests.exceptions.ConnectionError: HTTPSConnectionPool(host='us-api.i.posthog.com', port=443): Max retries exceeded with url: /batch/ (Caused by NameResolutionError(\"<urllib3.connection.HTTPSConnection object at 0x7f81b0ecb710>: Failed to resolve 'us-api.i.posthog.com' ([Errno -2] Name or service not known)\")))\n",
      " 90%|█████████ | 2432/2691 [02:49<00:14, 18.23it/s]INFO:backoff:Backing off send_request(...) for 0.3s (requests.exceptions.ReadTimeout: HTTPSConnectionPool(host='us-api.i.posthog.com', port=443): Read timed out. (read timeout=15))\n",
      "100%|██████████| 2691/2691 [02:58<00:00, 15.10it/s]\n"
     ]
    }
   ],
   "source": [
    "max_batch_size = 128\n",
    "batch = []\n",
    "for idx, (rule_identifier, rule_text) in tqdm(enumerate(rules_dict.items()), total=len(rules_dict)):\n",
    "    batch.append({\n",
    "        \"rule_identifier\": rule_identifier,\n",
    "        \"rule_text\": rule_text,\n",
    "        \"id\": idx\n",
    "    })\n",
    "\n",
    "    if len(batch) >= max_batch_size:\n",
    "        embedings = get_embedings([rule[\"rule_text\"] for rule in batch])\n",
    "        for idx, rule in enumerate(batch):\n",
    "            rule[\"embeding\"] = embedings[idx]\n",
    "        \n",
    "        collection.add(\n",
    "            ids= [rule[\"rule_identifier\"] for rule in batch],\n",
    "            embeddings= [rule[\"embeding\"] for rule in batch],\n",
    "            documents= [rule[\"rule_text\"] for rule in batch],\n",
    "        )\n",
    "\n",
    "        batch = []\n",
    "\n",
    "#---\n",
    "\n",
    "embedings = get_embedings([rule[\"rule_text\"] for rule in batch])\n",
    "for idx, rule in enumerate(batch):\n",
    "    rule[\"embeding\"] = embedings[idx]\n",
    "\n",
    "collection.add(\n",
    "    ids= [rule[\"rule_identifier\"] for rule in batch],\n",
    "    embeddings= [rule[\"embeding\"] for rule in batch],\n",
    "    documents= [rule[\"rule_text\"] for rule in batch],\n",
    ")\n",
    "\n",
    "batch = []"
   ]
  },
  {
   "cell_type": "code",
   "execution_count": 14,
   "metadata": {},
   "outputs": [],
   "source": [
    "def search(texts: list[str] | str) -> list[dict]:\n",
    "    if isinstance(texts, str):\n",
    "        texts = [texts]\n",
    "    \n",
    "    embeddings = get_embedings(texts)\n",
    "\n",
    "    r = collection.query(\n",
    "        query_embeddings=embeddings\n",
    "    )\n",
    "    #{ids: list[list[ids]], distances: list[list[distances]], documents: list[list[documents]]}\n",
    "\n",
    "    r_out = []\n",
    "\n",
    "    for i in range(len(texts)):\n",
    "        ids = r[\"ids\"][i]\n",
    "        distances = r[\"distances\"][i]\n",
    "        documents = r[\"documents\"][i]\n",
    "\n",
    "        r_arr = []\n",
    "        for j in range(len(ids)):\n",
    "            r_arr.append(\n",
    "                {\n",
    "                    \"id\": ids[j],\n",
    "                    \"distance\": distances[j],\n",
    "                    \"text\": documents[j]\n",
    "                }\n",
    "            )\n",
    "        \n",
    "        r_out.append(r_arr)\n",
    "    \n",
    "    return r_out"
   ]
  },
  {
   "cell_type": "code",
   "execution_count": 26,
   "metadata": {},
   "outputs": [
    {
     "name": "stdout",
     "output_type": "stream",
     "text": [
      "id 702.13a\n",
      "distance 1.0540034770965576\n",
      "text 702.13a Intimidate is an evasion ability. \n",
      "-\n",
      "id 508.1m\n",
      "distance 1.102388620376587\n",
      "text 508.1m Any abilities that trigger on attackers being declared trigger. \n",
      "-\n",
      "id 702.111a\n",
      "distance 1.1382246017456055\n",
      "text 702.111a Menace is an evasion ability. \n",
      "-\n",
      "id 702.142b\n",
      "distance 1.1396211385726929\n",
      "text 702.142b Effects may refer to boast abilities. If an effect refers to a creature boasting, it means its boast ability being activated. \n",
      "-\n",
      "id 702.36a\n",
      "distance 1.1773734092712402\n",
      "text 702.36a Fear is an evasion ability. \n",
      "-\n",
      "id 702.12a\n",
      "distance 1.1810660362243652\n",
      "text 702.12a Indestructible is a static ability. \n",
      "-\n",
      "id 702.118a\n",
      "distance 1.186344861984253\n",
      "text 702.118a Skulk is an evasion ability. \n",
      "-\n",
      "id 702.90a\n",
      "distance 1.1903629302978516\n",
      "text 702.90a Infect is a static ability. \n",
      "-\n",
      "id 702.9a\n",
      "distance 1.1960893869400024\n",
      "text 702.9a Flying is an evasion ability. \n",
      "-\n",
      "id 702.14b\n",
      "distance 1.198228120803833\n",
      "text 702.14b Landwalk is an evasion ability. \n",
      "-\n",
      "=\n"
     ]
    }
   ],
   "source": [
    "r = search([\"triggered ability\"])\n",
    "\n",
    "for s in r:\n",
    "    for res in s:\n",
    "        for key, value in res.items():\n",
    "            print(key, value)\n",
    "        print(\"-\")\n",
    "    print(\"=\")\n"
   ]
  }
 ],
 "metadata": {
  "kernelspec": {
   "display_name": "Python 3",
   "language": "python",
   "name": "python3"
  },
  "language_info": {
   "codemirror_mode": {
    "name": "ipython",
    "version": 3
   },
   "file_extension": ".py",
   "mimetype": "text/x-python",
   "name": "python",
   "nbconvert_exporter": "python",
   "pygments_lexer": "ipython3",
   "version": "3.11.2"
  }
 },
 "nbformat": 4,
 "nbformat_minor": 2
}
